{
 "cells": [
  {
   "cell_type": "markdown",
   "metadata": {},
   "source": [
    "Certification Authorität gibt Zertifikate aus \n",
    "=> hat einen Private+Public Key generiert\n",
    "=> Certificate Signing Request...\n",
    "+\n",
    "\n",
    "Vorbedingungen auf dem Client:\n",
    "\n",
    "* Trusted CAs müssen ein"
   ]
  },
  {
   "cell_type": "code",
   "execution_count": 1,
   "metadata": {
    "slideshow": {
     "slide_type": "subslide"
    }
   },
   "outputs": [
    {
     "name": "stdout",
     "output_type": "stream",
     "text": [
      "The Value of P is :23\n",
      "The Value of G is :9\n",
      "The Private Key a for Alice is :4\n",
      "The Private Key b for Bob is :3\n",
      "Secret key for the Alice is : 9\n",
      "Secret Key for the Bob is : 9\n"
     ]
    }
   ],
   "source": [
    "### DH(M)E\n",
    "### source: https://www.geeksforgeeks.org/implementation-diffie-hellman-algorithm/\n",
    "from random import randint\n",
    "\n",
    "if __name__ == '__main__':\n",
    "\n",
    "\t# Both the persons will be agreed upon the\n",
    "\t# public keys G and P\n",
    "\t# A prime number P is taken\n",
    "\tP = 23\n",
    "\t\n",
    "\t# A primitive root for P, G is taken\n",
    "\tG = 9\n",
    "\t\n",
    "\t\n",
    "\tprint('The Value of P is :%d'%(P))\n",
    "\tprint('The Value of G is :%d'%(G))\n",
    "\t\n",
    "\t# Alice will choose the private key a\n",
    "\ta = 4\n",
    "\tprint('The Private Key a for Alice is :%d'%(a))\n",
    "\t\n",
    "\t# gets the generated key\n",
    "\tx = int(pow(G,a,P))\n",
    "\t\n",
    "\t# Bob will choose the private key b\n",
    "\tb = 3\n",
    "\tprint('The Private Key b for Bob is :%d'%(b))\n",
    "\t\n",
    "\t# gets the generated key\n",
    "\ty = int(pow(G,b,P))\n",
    "\t\n",
    "\t\n",
    "\t# Secret key for Alice\n",
    "\tka = int(pow(y,a,P))\n",
    "\t\n",
    "\t# Secret key for Bob\n",
    "\tkb = int(pow(x,b,P))\n",
    "\t\n",
    "\tprint('Secret key for the Alice is : %d'%(ka))\n",
    "\tprint('Secret Key for the Bob is : %d'%(kb))\n"
   ]
  },
  {
   "cell_type": "code",
   "execution_count": 1,
   "metadata": {},
   "outputs": [
    {
     "name": "stdout",
     "output_type": "stream",
     "text": [
      "Alice public key: 0x6822e8a8e46749d4d6a16bc7cc5c49ca9a0113d949a970ecc8d21f199fb66c511\n",
      "Bob public key: 0x3201fe4fdae313bb9fb8d340a77ccdae8093cefed689e463bda24f8ad127a27d1\n",
      "Now exchange the public keys (e.g. through Internet)\n",
      "Alice shared key: 0xa5dd2125885d4062cb6e760d4f548ffbc8667f0fa6ae171f0c442c03a4dadfa80\n",
      "Bob shared key: 0xa5dd2125885d4062cb6e760d4f548ffbc8667f0fa6ae171f0c442c03a4dadfa80\n",
      "Equal shared keys: True\n"
     ]
    }
   ],
   "source": [
    "### ECDHE\n",
    "### source: https://cryptobook.nakov.com/asymmetric-key-ciphers/ecdh-key-exchange-examples\n",
    "from tinyec import registry\n",
    "import secrets\n",
    "\n",
    "def compress(pubKey):\n",
    "    return hex(pubKey.x) + hex(pubKey.y % 2)[2:]\n",
    "\n",
    "curve = registry.get_curve('brainpoolP256r1')\n",
    "\n",
    "alicePrivKey = secrets.randbelow(curve.field.n)\n",
    "alicePubKey = alicePrivKey * curve.g\n",
    "print(\"Alice public key:\", compress(alicePubKey))\n",
    "\n",
    "bobPrivKey = secrets.randbelow(curve.field.n)\n",
    "bobPubKey = bobPrivKey * curve.g\n",
    "print(\"Bob public key:\", compress(bobPubKey))\n",
    "\n",
    "print(\"Now exchange the public keys (e.g. through Internet)\")\n",
    "\n",
    "aliceSharedKey = alicePrivKey * bobPubKey\n",
    "print(\"Alice shared key:\", compress(aliceSharedKey))\n",
    "\n",
    "bobSharedKey = bobPrivKey * alicePubKey\n",
    "print(\"Bob shared key:\", compress(bobSharedKey))\n",
    "\n",
    "print(\"Equal shared keys:\", aliceSharedKey == bobSharedKey)"
   ]
  },
  {
   "cell_type": "code",
   "execution_count": 2,
   "metadata": {},
   "outputs": [
    {
     "data": {
      "image/png": "[encoded data removed]",
      "text/plain": [
       "<Figure size 640x480 with 1 Axes>"
      ]
     },
     "metadata": {},
     "output_type": "display_data"
    }
   ],
   "source": [
    "import numpy as np\n",
    "import matplotlib.pyplot as plt\n",
    "\n",
    "def main():\n",
    "    a = -1\n",
    "    b = 1\n",
    "\n",
    "    y, x = np.ogrid[-5:5:100j, -5:5:100j]\n",
    "    plt.contour(x.ravel(), y.ravel(), pow(y, 2) - pow(x, 3) - x * a - b, [0])\n",
    "    plt.grid()\n",
    "    plt.show()\n",
    "\n",
    "if __name__ == '__main__':\n",
    "    main()"
   ]
  },
  {
   "cell_type": "code",
   "execution_count": null,
   "metadata": {},
   "outputs": [],
   "source": []
  }
 ],
 "metadata": {
  "celltoolbar": "Slideshow",
  "kernelspec": {
   "display_name": "Python 3 (ipykernel)",
   "language": "python",
   "name": "python3"
  },
  "language_info": {
   "codemirror_mode": {
    "name": "ipython",
    "version": 3
   },
   "file_extension": ".py",
   "mimetype": "text/x-python",
   "name": "python",
   "nbconvert_exporter": "python",
   "pygments_lexer": "ipython3",
   "version": "3.10.8 | packaged by conda-forge | (main, Nov 22 2022, 08:26:04) [GCC 10.4.0]"
  },
  "vscode": {
   "interpreter": {
    "hash": "d4d1e4263499bec80672ea0156c357c1ee493ec2b1c70f0acce89fc37c4a6abe"
   }
  }
 },
 "nbformat": 4,
 "nbformat_minor": 2
}
