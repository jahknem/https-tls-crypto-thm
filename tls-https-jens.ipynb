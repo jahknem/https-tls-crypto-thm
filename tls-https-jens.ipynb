{
 "cells": [
  {
   "cell_type": "markdown",
   "metadata": {
    "slideshow": {
     "slide_type": "slide"
    }
   },
   "source": [
    "![](./Pictures/0068.jpg)"
   ]
  },
  {
   "cell_type": "markdown",
   "metadata": {
    "slideshow": {
     "slide_type": "subslide"
    }
   },
   "source": [
    "![](./Pictures/0069.jpg)"
   ]
  },
  {
   "cell_type": "markdown",
   "metadata": {
    "slideshow": {
     "slide_type": "subslide"
    }
   },
   "source": [
    "# Zusammenfassung CA\n",
    "\n",
    "1. Mindestens eine vertrauenswürdige CA muss existieren\n",
    "2. Der Server muss ein von der CA signiertes Zertifikat besitzen\n",
    "3. Der Client muss eine Liste von vertrauenswürdigen CAs haben\n",
    "\n"
   ]
  },
  {
   "cell_type": "markdown",
   "metadata": {
    "slideshow": {
     "slide_type": "slide"
    }
   },
   "source": [
    "# Diffie-Hellman-Merkle-Schlüsselaustausch\n",
    "\n",
    "1. Alice und Bob einigen sich auf eine **nicht geheime möglichst große** Primzahl P und g.\n",
    "2. Alice wählt eine Zufallszahl x und sendet $X = g^x mod\\ p$ an Bob.\n",
    "3. Bob wählt eine weitere Zufallszahl y und sendet Y = $g^y mod\\ p$ an Alice\n",
    "4. Alice berechnet $k_1 = Y^x mod\\ p$ und Bob berechnet $k_2 = X^y mod\\ p$\n",
    "\n",
    "Die Keys behalten nur für die Session ihre Gültigkeit\n",
    "<p style=\"text-align: center;\">→ PFS wird sichergestellt</p>\n"
   ]
  },
  {
   "cell_type": "markdown",
   "metadata": {
    "slideshow": {
     "slide_type": "subslide"
    }
   },
   "source": [
    "# Eliptic Difffie-Hellman-Merkle"
   ]
  },
  {
   "cell_type": "code",
   "execution_count": 41,
   "metadata": {
    "slideshow": {
     "slide_type": "skip"
    }
   },
   "outputs": [],
   "source": [
    "from random import randint\n",
    "from tinyec import registry\n",
    "import secrets\n",
    "def compress(pubKey):\n",
    "    return hex(pubKey.x) + hex(pubKey.y % 2)[2:]"
   ]
  },
  {
   "cell_type": "code",
   "execution_count": 38,
   "metadata": {
    "slideshow": {
     "slide_type": "subslide"
    }
   },
   "outputs": [
    {
     "name": "stdout",
     "output_type": "stream",
     "text": [
      "The Private Key a for Alice is :200\n",
      "The Private Key b for Bob is :4277\n"
     ]
    }
   ],
   "source": [
    "### DH(M)E\n",
    "### oriented on: https://www.geeksforgeeks.org/implementation-diffie-hellman-algorithm/\n",
    "\n",
    "# 1\n",
    "## A prime number P is taken\n",
    "P = 40591\n",
    "## A primitive root for P, G is taken\n",
    "G = 13\n",
    "\n",
    "# 2\n",
    "## Alice will choose the private key a\n",
    "x = randint(1, 5000)\n",
    "print('The Private Key a for Alice is :%d'%(x))\n",
    "# gets the generated key\n",
    "X = int(pow(G,x,P))\n",
    "\n",
    "# 3\n",
    "# Bob will choose the private key b\n",
    "y = randint(1, 5000)\n",
    "print('The Private Key b for Bob is :%d'%(y))\n",
    "# gets the generated key\n",
    "Y = int(pow(G,y,P))"
   ]
  },
  {
   "cell_type": "code",
   "execution_count": 39,
   "metadata": {
    "slideshow": {
     "slide_type": "subslide"
    }
   },
   "outputs": [
    {
     "name": "stdout",
     "output_type": "stream",
     "text": [
      "Secret key for the Alice is : 9584\n",
      "Secret Key for the Bob is : 9584\n"
     ]
    }
   ],
   "source": [
    "# 4\n",
    "# Secret key for Alice\n",
    "k_a = int(pow(Y,x,P))\n",
    "# Secret key for Bob\n",
    "k_b = int(pow(X,y,P))\n",
    "\n",
    "print('Secret key for the Alice is : %d'%(k_a))\n",
    "print('Secret Key for the Bob is : %d'%(k_b))\n"
   ]
  },
  {
   "cell_type": "code",
   "execution_count": 42,
   "metadata": {
    "slideshow": {
     "slide_type": "subslide"
    }
   },
   "outputs": [
    {
     "name": "stdout",
     "output_type": "stream",
     "text": [
      "Alice public key: 0xa57eb7e272a20c57be8524c5dad245e803b8703b712fa19a48075c45fc2974a71\n",
      "Bob public key: 0x7552c485b4b605d1fad45ac1f67f91c741877a64754c8633ee718641f14185050\n",
      "Now exchange the public keys (e.g. through Internet)\n",
      "Alice shared key: 0x8f2b36dbb67273ac2665f6bad6fdaf532b04c46ad69c227512694064dc5ea9281\n",
      "Bob shared key: 0x8f2b36dbb67273ac2665f6bad6fdaf532b04c46ad69c227512694064dc5ea9281\n"
     ]
    }
   ],
   "source": [
    "### ECDH(M)E\n",
    "### source: https://cryptobook.nakov.com/asymmetric-key-ciphers/ecdh-key-exchange-examples\n",
    "#1\n",
    "curve = registry.get_curve('brainpoolP256r1')\n",
    "#2\n",
    "alicePrivKey = secrets.randbelow(curve.field.n)\n",
    "alicePubKey = alicePrivKey * curve.g\n",
    "print(\"Alice public key:\", compress(alicePubKey))\n",
    "#3\n",
    "bobPrivKey = secrets.randbelow(curve.field.n)\n",
    "bobPubKey = bobPrivKey * curve.g\n",
    "print(\"Bob public key:\", compress(bobPubKey))\n",
    "\n",
    "print(\"Now exchange the public keys (e.g. through Internet)\")\n",
    "#4\n",
    "aliceSharedKey = alicePrivKey * bobPubKey\n",
    "print(\"Alice shared key:\", compress(aliceSharedKey))\n",
    "bobSharedKey = bobPrivKey * alicePubKey\n",
    "print(\"Bob shared key:\", compress(bobSharedKey))"
   ]
  },
  {
   "cell_type": "code",
   "execution_count": null,
   "metadata": {},
   "outputs": [],
   "source": []
  }
 ],
 "metadata": {
  "celltoolbar": "Slideshow",
  "kernelspec": {
   "display_name": "Python 3 (ipykernel)",
   "language": "python",
   "name": "python3"
  },
  "language_info": {
   "codemirror_mode": {
    "name": "ipython",
    "version": 3
   },
   "file_extension": ".py",
   "mimetype": "text/x-python",
   "name": "python",
   "nbconvert_exporter": "python",
   "pygments_lexer": "ipython3",
   "version": "3.10.8"
  },
  "vscode": {
   "interpreter": {
    "hash": "d4d1e4263499bec80672ea0156c357c1ee493ec2b1c70f0acce89fc37c4a6abe"
   }
  }
 },
 "nbformat": 4,
 "nbformat_minor": 2
}
