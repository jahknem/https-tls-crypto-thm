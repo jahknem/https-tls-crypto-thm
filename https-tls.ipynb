{
 "cells": [
  {
   "attachments": {},
   "cell_type": "markdown",
   "id": "dbbf1818",
   "metadata": {
    "slideshow": {
     "slide_type": "slide"
    }
   },
   "source": [
    "# HTTPS & TLS\n",
    "von Jens Gräfe, Matthias Rinker & Jan Kühnemund"
   ]
  },
  {
   "cell_type": "markdown",
   "id": "9e59535e",
   "metadata": {
    "slideshow": {
     "slide_type": "slide"
    }
   },
   "source": [
    "# Inhaltsverzeichnis"
   ]
  },
  {
   "cell_type": "markdown",
   "id": "a81882c0",
   "metadata": {
    "slideshow": {
     "slide_type": "slide"
    }
   },
   "source": [
    "# Geschichte von TLS"
   ]
  },
  {
   "cell_type": "markdown",
   "id": "a23e9005",
   "metadata": {
    "slideshow": {
     "slide_type": "subslide"
    }
   },
   "source": [
    "# TLS 1.1"
   ]
  },
  {
   "cell_type": "markdown",
   "id": "56bc990c",
   "metadata": {
    "slideshow": {
     "slide_type": "subslide"
    }
   },
   "source": [
    "# TLS 1.2"
   ]
  },
  {
   "cell_type": "markdown",
   "id": "501529b2",
   "metadata": {
    "slideshow": {
     "slide_type": "subslide"
    }
   },
   "source": [
    "# TLS 1.3"
   ]
  },
  {
   "attachments": {},
   "cell_type": "markdown",
   "id": "558b3732",
   "metadata": {
    "slideshow": {
     "slide_type": "slide"
    }
   },
   "source": [
    "# HTTPS Demo"
   ]
  },
  {
   "cell_type": "code",
   "execution_count": null,
   "id": "bb60dd29",
   "metadata": {
    "slideshow": {
     "slide_type": "fragment"
    }
   },
   "outputs": [],
   "source": [
    "import ssl\n",
    "import socket\n",
    "import OpenSSL\n",
    "\n",
    "# Set the target website\n",
    "website = \"www.google.com\"\n",
    "\n",
    "# Check the certificate of the website\n",
    "context = ssl.create_default_context()\n",
    "s = socket.create_connection((website, 443))\n",
    "ssl_sock = context.wrap_socket(s, server_hostname=website)\n",
    "cert = ssl_sock.getpeercert()\n",
    "\n",
    "# Print the certificate\n",
    "print(cert)"
   ]
  }
 ],
 "metadata": {
  "celltoolbar": "Slideshow",
  "kernelspec": {
   "display_name": "base",
   "language": "python",
   "name": "python3"
  },
  "language_info": {
   "codemirror_mode": {
    "name": "ipython",
    "version": 3
   },
   "file_extension": ".py",
   "mimetype": "text/x-python",
   "name": "python",
   "nbconvert_exporter": "python",
   "pygments_lexer": "ipython3",
   "version": "3.10.8 | packaged by conda-forge | (main, Nov 22 2022, 08:26:04) [GCC 10.4.0]"
  },
  "vscode": {
   "interpreter": {
    "hash": "d4d1e4263499bec80672ea0156c357c1ee493ec2b1c70f0acce89fc37c4a6abe"
   }
  }
 },
 "nbformat": 4,
 "nbformat_minor": 5
}
