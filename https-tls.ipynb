{
 "cells": [
  {
   "attachments": {},
   "cell_type": "markdown",
   "id": "dbbf1818",
   "metadata": {
    "slideshow": {
     "slide_type": "slide"
    }
   },
   "source": [
    "# HTTPS & TLS\n",
    "von Jens Gräfe, Matthias Rinker & Jan Kühnemund"
   ]
  },
  {
   "cell_type": "markdown",
   "id": "9e59535e",
   "metadata": {
    "slideshow": {
     "slide_type": "slide"
    }
   },
   "source": [
    "# Inhaltsverzeichnis"
   ]
  },
  {
   "attachments": {},
   "cell_type": "markdown",
   "id": "1171985e",
   "metadata": {
    "slideshow": {
     "slide_type": "slide"
    }
   },
   "source": [
    "# HTTPS"
   ]
  },
  {
   "cell_type": "markdown",
   "id": "49719963",
   "metadata": {},
   "source": []
  },
  {
   "attachments": {},
   "cell_type": "markdown",
   "id": "558b3732",
   "metadata": {
    "slideshow": {
     "slide_type": "slide"
    }
   },
   "source": [
    "# HTTPS Demo"
   ]
  },
  {
   "cell_type": "code",
   "execution_count": null,
   "id": "bb60dd29",
   "metadata": {
    "slideshow": {
     "slide_type": "fragment"
    }
   },
   "outputs": [],
   "source": [
    "import ssl\n",
    "import socket\n",
    "import OpenSSL\n",
    "\n",
    "# Set the target website\n",
    "website = \"www.google.com\"\n",
    "\n",
    "# Check the certificate of the website\n",
    "context = ssl.create_default_context()\n",
    "s = socket.create_connection((website, 443))\n",
    "ssl_sock = context.wrap_socket(s, server_hostname=website)\n",
    "cert = ssl_sock.getpeercert()\n",
    "\n",
    "# Print the certificate\n",
    "print(cert)"
   ]
  },
  {
   "attachments": {},
   "cell_type": "markdown",
   "id": "75c7f61e",
   "metadata": {
    "slideshow": {
     "slide_type": "subslide"
    }
   },
   "source": [
    "# HTTPS ist HTTP über TLS\n",
    "\n",
    "HTTP nutzt als Transport Protokoll TCP. HTTPS setzt stattdessen auf TLS auf, welches auch TCP nutzt. Dadurch ist das komplette HTTP Paket verschlüsselt. (rfc2818[2][2.2])"
   ]
  },
  {
   "cell_type": "code",
   "execution_count": null,
   "id": "681d297f",
   "metadata": {},
   "outputs": [],
   "source": []
  },
  {
   "attachments": {},
   "cell_type": "markdown",
   "id": "722fa4f4",
   "metadata": {
    "slideshow": {
     "slide_type": "subslide"
    }
   },
   "source": [
    "# HTTP Paketaufbau"
   ]
  },
  {
   "cell_type": "code",
   "execution_count": 4,
   "id": "46e3c780",
   "metadata": {
    "slideshow": {
     "slide_type": "fragment"
    }
   },
   "outputs": [],
   "source": [
    "from diagrams import Diagram\n",
    "from diagrams.onprem.client import Client\n",
    "from diagrams.onprem.network import Tyk\n",
    "\n",
    "with Diagram(\"HTTP Header Format\"):\n",
    "    client = Client(\"Client\")\n",
    "    http = Tyk(\"HTTP\")\n",
    "    client >> http"
   ]
  },
  {
   "attachments": {},
   "cell_type": "markdown",
   "id": "0b1b4739",
   "metadata": {
    "slideshow": {
     "slide_type": "subslide"
    }
   },
   "source": [
    "# HTTP Ablauf\n",
    "\n",
    "| method | scheme | host | path | accept | user-agent |\n",
    "|--------|--------|------|------|--------|------------|\n",
    "| GET    | https  | www.example.com | / | text/html | curl/7.54.0 |"
   ]
  },
  {
   "attachments": {},
   "cell_type": "markdown",
   "id": "df822fe7",
   "metadata": {
    "slideshow": {
     "slide_type": "slide"
    }
   },
   "source": [
    "# TLS\n",
    "Transfler Layer Security (TLS) ist ein Protokoll zur Verschlüsselung von Daten. Es ist ein Nachfolger von SSL (Secure Sockets Layer). TLS ist ein Protokoll, welches auf TCP aufbaut. (rfc2818[2][2.1])\n",
    "\n",
    "Es ist in Schicht 5 des OSI Schichtenmodells angesiedelt und teilt sich auf 2 Unterschichten auf.\n",
    "\n",
    "| Handshake | Alert | Change Cipher | Application Data |\n",
    "|-----------|-------|---------------|------------------|\n",
    "|                 TLS Record Protocol                  |\n",
    "\n"
   ]
  },
  {
   "attachments": {},
   "cell_type": "markdown",
   "id": "56f24212",
   "metadata": {
    "slideshow": {
     "slide_type": "subslide"
    }
   },
   "source": [
    "## Record Protocol\n",
    "\n",
    "Das record prtocol ist die unterste Schicht von TLS. Es ist für die Verschlüsselung und die Authentifizierung der Daten zuständig. (rfc8446[5]). Es teilt die Daten in verarbeitbare Blöcke auf, schützt diese und überträgt das Ergebnis. Auf der Gegenseite werden die empfangenen Daten überprüft, entschlüsselt, zusammengesetzt und an höhere OSI Layer weitergegeben.\n",
    "\n",
    "<style type=\"text/css\">\n",
    ".tg  {border-collapse:collapse;border-spacing:0;}\n",
    ".tg td{border-color:black;border-style:solid;border-width:1px;font-family:Arial, sans-serif;font-size:14px;\n",
    "  overflow:hidden;padding:10px 5px;word-break:normal;}\n",
    ".tg th{border-color:black;border-style:solid;border-width:1px;font-family:Arial, sans-serif;font-size:14px;\n",
    "  font-weight:normal;overflow:hidden;padding:10px 5px;word-break:normal;}\n",
    ".tg .tg-baqh{text-align:center;vertical-align:top}\n",
    ".tg .tg-c3ow{border-color:inherit;text-align:center;vertical-align:top}\n",
    ".tg .tg-0pky{border-color:inherit;text-align:left;vertical-align:top}\n",
    "</style>\n",
    "<table class=\"tg\">\n",
    "<thead>\n",
    "  <tr>\n",
    "    <th class=\"tg-c3ow\">Byte</th>\n",
    "    <th class=\"tg-c3ow\">+0</th>\n",
    "    <th class=\"tg-c3ow\">+1</th>\n",
    "    <th class=\"tg-c3ow\">+2</th>\n",
    "    <th class=\"tg-baqh\">+3</th>\n",
    "  </tr>\n",
    "</thead>\n",
    "<tbody>\n",
    "  <tr>\n",
    "    <td class=\"tg-c3ow\">0</td>\n",
    "    <td class=\"tg-c3ow\">Content type<br></td>\n",
    "    <td class=\"tg-0pky\" colspan=\"3\"></td>\n",
    "  </tr>\n",
    "  <tr>\n",
    "    <td class=\"tg-baqh\">1..4</td>\n",
    "    <td class=\"tg-baqh\" colspan=\"2\">Version</td>\n",
    "    <td class=\"tg-baqh\" colspan=\"2\">Length</td>\n",
    "  </tr>\n",
    "  <tr>\n",
    "    <td class=\"tg-baqh\">5..n</td>\n",
    "    <td class=\"tg-baqh\" colspan=\"4\">Payload</td>\n",
    "  </tr>\n",
    "  <tr>\n",
    "    <td class=\"tg-baqh\">n..m</td>\n",
    "    <td class=\"tg-baqh\" colspan=\"4\">MAC</td>\n",
    "  </tr>\n",
    "  <tr>\n",
    "    <td class=\"tg-baqh\">m..p</td>\n",
    "    <td class=\"tg-baqh\" colspan=\"4\">Padding (Block ciphers only)</td>\n",
    "  </tr>\n",
    "</tbody>\n",
    "</table>"
   ]
  },
  {
   "attachments": {},
   "cell_type": "markdown",
   "id": "29f510bd",
   "metadata": {
    "slideshow": {
     "slide_type": "subslide"
    }
   },
   "source": [
    "## Handshake"
   ]
  },
  {
   "attachments": {},
   "cell_type": "markdown",
   "id": "444fc4ff",
   "metadata": {},
   "source": [
    "# Change Cipher Spec\n",
    "Das Change Cipher Spec Byte wird nur aus Kompatibilitätsgründen weiter verwendet. IM TLS 1.3 Standard muss ein erkannt und verworfen werden damit keine Fehlermeldungen entstehen."
   ]
  },
  {
   "attachments": {},
   "cell_type": "markdown",
   "id": "29f510bd",
   "metadata": {
    "slideshow": {
     "slide_type": "subslide"
    }
   },
   "source": [
    "## Alert Protocol\n",
    "\n",
    "Das Alert Protocol überträgt Fehlermeldung und Übertragunsgbeendigungsinformationen."
   ]
  },
  {
   "attachments": {},
   "cell_type": "markdown",
   "id": "29f510bd",
   "metadata": {
    "slideshow": {
     "slide_type": "subslide"
    }
   },
   "source": [
    "## Application Data Protocol\n",
    "\n",
    "Application Data Messages werden immer verschlüsselt und sind für TLS undurchsichtig. Sie beinhalten TLSPlaintext Structs welche mittels record protection Funktionen in TLSCiphertext Strukturen umgewandelt werden."
   ]
  },
  {
   "attachments": {},
   "cell_type": "markdown",
   "id": "0494ab6b",
   "metadata": {},
   "source": [
    "### Authenticated Encryption with Associated Data (AEAD) RFC5116\n",
    "\n",
    "AEAD ist ein Verfahren zur Authentifizierung und Verschlüsselung von Daten. Es nutzt dabei eine Authentifizierungs- und Verschlüsselungsfunktion. Diese Funktion ist ein Verfahren welches sowohl Authentifizierung als auch Verschlüsselung in einem Schritt durchführt.\n",
    "\n",
    "Vorher wurden Verschlüsselung und Authentifizierung häufig getrennt durchgeführt. Ein oft genutzter Authentifizierung Algorithmus war die Nutzung von MACs.\n",
    "\n",
    "#### Message Authentication Code\n",
    "\n",
    "Ein Message Authentication Code (MAC) ist ein Verfahren zur Authentifizierung von Daten. Es wird verwendet um die Integrität von Daten zu überprüfen. Es wird ein Hashwert aus den Daten berechnet und mit einem Schlüssel verschlüsselt. Der verschlüsselte Hashwert wird mit den Daten übertragen. Der Empfänger berechnet den Hashwert aus den Daten und entschlüsselt den Hashwert. Wenn die beiden Hashwerte übereinstimmen ist die Integrität der Daten gewährleistet. (rfc2104[3])\n"
   ]
  },
  {
   "attachments": {},
   "cell_type": "markdown",
   "id": "e929672c",
   "metadata": {},
   "source": [
    "## Cipher Suite\n",
    "\n",
    "In der TLS Version 1.3 werden als unsicher erachtete Cipher Suites der vorherigen Versionen entfernt. Ein TLS 1.3 Client ist daher mit einem TLS 1.2 Client nicht mehr zwingend kompatibel.\n",
    "\n",
    "TLS 1.3 Cipher Suites sind anders aufgebaut als TLS 1.2 Cipher Suites, daher können diese nicht untereinander verwendet werden.\n",
    "\n",
    "### RFC8446 9.1\n",
    "\n",
    "#### Verpflichtend\n",
    "\n",
    "- TLS_AES_128_GCM_SHA256\n",
    "\n",
    "#### Optional\n",
    "\n",
    "- TLS_AES_256_GCM_SHA384\n",
    "- TLS_CHACHA20_POLY1305_SHA256 (RFC8439)\n",
    "\n",
    "### OpenSSL https://ciphersuite.info/cs/?software=openssl&tls=tls13\n",
    "\n",
    "- TLS_AES_128_GCM_SHA256 (Empfohlen)\n",
    "- TLS_AES_256_GCM_SHA384 (Empfohlen)\n",
    "- TLS_AES_128_CCM_SHA256 (Hinreichend Sicher)"
   ]
  },
  {
   "cell_type": "markdown",
   "id": "a81882c0",
   "metadata": {
    "slideshow": {
     "slide_type": "slide"
    }
   },
   "source": [
    "# Geschichte von TLS"
   ]
  },
  {
   "cell_type": "markdown",
   "id": "501529b2",
   "metadata": {
    "slideshow": {
     "slide_type": "subslide"
    }
   },
   "source": [
    "# TLS 1.3"
   ]
  }
 ],
 "metadata": {
  "celltoolbar": "Slideshow",
  "kernelspec": {
   "display_name": "base",
   "language": "python",
   "name": "python3"
  },
  "language_info": {
   "codemirror_mode": {
    "name": "ipython",
    "version": 3
   },
   "file_extension": ".py",
   "mimetype": "text/x-python",
   "name": "python",
   "nbconvert_exporter": "python",
   "pygments_lexer": "ipython3",
   "version": "3.10.8 | packaged by conda-forge | (main, Nov 22 2022, 08:26:04) [GCC 10.4.0]"
  },
  "vscode": {
   "interpreter": {
    "hash": "d4d1e4263499bec80672ea0156c357c1ee493ec2b1c70f0acce89fc37c4a6abe"
   }
  }
 },
 "nbformat": 4,
 "nbformat_minor": 5
}
