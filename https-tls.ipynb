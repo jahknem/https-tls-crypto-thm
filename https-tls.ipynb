{
 "cells": [
  {
   "attachments": {},
   "cell_type": "markdown",
   "id": "dbbf1818",
   "metadata": {
    "slideshow": {
     "slide_type": "slide"
    }
   },
   "source": [
    "# HTTPS & TLS\n",
    "von Jens Gräfe, Matthias Rinker & Jan Kühnemund"
   ]
  },
  {
   "cell_type": "markdown",
   "id": "9e59535e",
   "metadata": {
    "slideshow": {
     "slide_type": "slide"
    }
   },
   "source": [
    "# Inhaltsverzeichnis"
   ]
  },
  {
   "attachments": {},
   "cell_type": "markdown",
   "id": "1171985e",
   "metadata": {
    "slideshow": {
     "slide_type": "slide"
    }
   },
   "source": [
    "# HTTPS"
   ]
  },
  {
   "attachments": {},
   "cell_type": "markdown",
   "id": "75c7f61e",
   "metadata": {
    "slideshow": {
     "slide_type": "subslide"
    }
   },
   "source": [
    "# HTTPS ist HTTP über TLS\n",
    "\n",
    "HTTP nutzt als Transport Protokoll TCP. HTTPS setzt stattdessen auf TLS auf, welches auch TCP nutzt. Dadurch ist das komplette HTTP Paket verschlüsselt. (rfc2818[2][2.2])"
   ]
  },
  {
   "cell_type": "code",
   "execution_count": null,
   "id": "681d297f",
   "metadata": {},
   "outputs": [],
   "source": []
  },
  {
   "attachments": {},
   "cell_type": "markdown",
   "id": "722fa4f4",
   "metadata": {
    "slideshow": {
     "slide_type": "subslide"
    }
   },
   "source": [
    "# HTTP Paketaufbau"
   ]
  },
  {
   "cell_type": "code",
   "execution_count": 4,
   "id": "46e3c780",
   "metadata": {
    "slideshow": {
     "slide_type": "fragment"
    }
   },
   "outputs": [],
   "source": [
    "from diagrams import Diagram\n",
    "from diagrams.onprem.client import Client\n",
    "from diagrams.onprem.network import Tyk\n",
    "\n",
    "with Diagram(\"HTTP Header Format\"):\n",
    "    client = Client(\"Client\")\n",
    "    http = Tyk(\"HTTP\")\n",
    "    client >> http"
   ]
  },
  {
   "attachments": {},
   "cell_type": "markdown",
   "id": "0b1b4739",
   "metadata": {
    "slideshow": {
     "slide_type": "subslide"
    }
   },
   "source": [
    "# HTTP Paketaufbau"
   ]
  },
  {
   "attachments": {},
   "cell_type": "markdown",
   "id": "722fa4f4",
   "metadata": {
    "slideshow": {
     "slide_type": "subslide"
    }
   },
   "source": [
    "# HTTP Paketaufbau"
   ]
  },
  {
   "attachments": {},
   "cell_type": "markdown",
   "id": "56f24212",
   "metadata": {},
   "source": [
    "# TLS Frame"
   ]
  },
  {
   "cell_type": "markdown",
   "id": "a81882c0",
   "metadata": {
    "slideshow": {
     "slide_type": "slide"
    }
   },
   "source": [
    "# Geschichte von TLS"
   ]
  },
  {
   "cell_type": "markdown",
   "id": "a23e9005",
   "metadata": {
    "slideshow": {
     "slide_type": "subslide"
    }
   },
   "source": [
    "# TLS 1.1"
   ]
  },
  {
   "cell_type": "markdown",
   "id": "56bc990c",
   "metadata": {
    "slideshow": {
     "slide_type": "subslide"
    }
   },
   "source": [
    "# TLS 1.2"
   ]
  },
  {
   "cell_type": "markdown",
   "id": "501529b2",
   "metadata": {
    "slideshow": {
     "slide_type": "subslide"
    }
   },
   "source": [
    "# TLS 1.3"
   ]
  },
  {
   "attachments": {},
   "cell_type": "markdown",
   "id": "558b3732",
   "metadata": {
    "slideshow": {
     "slide_type": "slide"
    }
   },
   "source": [
    "# HTTPS Demo"
   ]
  },
  {
   "cell_type": "code",
   "execution_count": null,
   "id": "bb60dd29",
   "metadata": {
    "slideshow": {
     "slide_type": "fragment"
    }
   },
   "outputs": [],
   "source": [
    "import ssl\n",
    "import socket\n",
    "import OpenSSL\n",
    "\n",
    "# Set the target website\n",
    "website = \"www.google.com\"\n",
    "\n",
    "# Check the certificate of the website\n",
    "context = ssl.create_default_context()\n",
    "s = socket.create_connection((website, 443))\n",
    "ssl_sock = context.wrap_socket(s, server_hostname=website)\n",
    "cert = ssl_sock.getpeercert()\n",
    "\n",
    "# Print the certificate\n",
    "print(cert)"
   ]
  }
 ],
 "metadata": {
  "celltoolbar": "Slideshow",
  "kernelspec": {
   "display_name": "base",
   "language": "python",
   "name": "python3"
  },
  "language_info": {
   "codemirror_mode": {
    "name": "ipython",
    "version": 3
   },
   "file_extension": ".py",
   "mimetype": "text/x-python",
   "name": "python",
   "nbconvert_exporter": "python",
   "pygments_lexer": "ipython3",
   "version": "3.10.8 | packaged by conda-forge | (main, Nov 22 2022, 08:26:04) [GCC 10.4.0]"
  },
  "vscode": {
   "interpreter": {
    "hash": "d4d1e4263499bec80672ea0156c357c1ee493ec2b1c70f0acce89fc37c4a6abe"
   }
  }
 },
 "nbformat": 4,
 "nbformat_minor": 5
}
