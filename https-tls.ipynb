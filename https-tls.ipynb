{
 "cells": [
  {
   "cell_type": "markdown",
   "id": "dbbf1818",
   "metadata": {
    "slideshow": {
     "slide_type": "slide"
    }
   },
   "source": [
    " # HTTPS & TLS\n",
    "von Jens Gräfe, Matthias Rinker & Jan Kühnemund"
   ]
  },
  {
   "cell_type": "markdown",
   "id": "2fabc39c",
   "metadata": {
    "slideshow": {
     "slide_type": "slide"
    }
   },
   "source": [
    "# Handshake"
   ]
  },
  {
   "cell_type": "markdown",
   "id": "fb2e7544",
   "metadata": {
    "slideshow": {
     "slide_type": "subslide"
    }
   },
   "source": [
    "## Perfect Forward Secrecy\n",
    "* Sitzungsschlüssel sind sicher, auch wenn Langzeitschlüssel gebrochen wurden.\n",
    "* Für jede Sitzung muss ein neuer Schlüssel generiert und anschließend gelöscht werden.\n",
    "* Schützt die übertragenen Daten auch in Zukunft.\n",
    "* Umsetzbar mit dem Diffie-Hellman-Schlüsselaustausch.\n",
    "\n"
   ]
  },
  {
   "cell_type": "markdown",
   "id": "39783482",
   "metadata": {
    "slideshow": {
     "slide_type": "notes"
    }
   },
   "source": [
    "Kommunikation kann ansonsten einfach gespeichert werden und in Zukunft, wenn es möglich ist die Langzeitschlüssel zu brechen, entschlüsselt werden."
   ]
  },
  {
   "cell_type": "markdown",
   "id": "af19f5d0",
   "metadata": {
    "slideshow": {
     "slide_type": "subslide"
    }
   },
   "source": [
    "## Handshake-Protokoll\n",
    "Besteht aus 3 Phasen:\n",
    "1. Schlüsselaustausch\n",
    "2. Serverparameter\n",
    "3. Authentifizierung\n"
   ]
  },
  {
   "cell_type": "markdown",
   "id": "a2762d86",
   "metadata": {
    "slideshow": {
     "slide_type": "subslide"
    }
   },
   "source": [
    "<img style=\"margin-left: auto; margin-right: auto;\" src=\"media/Figure-3-TLS-1-3-Handshake.png\">  "
   ]
  },
  {
   "cell_type": "markdown",
   "id": "66db5763",
   "metadata": {
    "slideshow": {
     "slide_type": "subslide"
    }
   },
   "source": [
    "\n",
    "<img style=\"margin-left: auto; margin-right: auto;width:100%;\" src=\"media/handshake1.png\">  \n"
   ]
  },
  {
   "cell_type": "markdown",
   "id": "d4bcc637",
   "metadata": {
    "slideshow": {
     "slide_type": "subslide"
    }
   },
   "source": [
    "\n",
    "<img style=\"margin-left: auto; margin-right: auto;width:100%;\" src=\"media/handshake2.png\">  \n"
   ]
  },
  {
   "cell_type": "markdown",
   "id": "fd773f58",
   "metadata": {
    "slideshow": {
     "slide_type": "subslide"
    }
   },
   "source": [
    "\n",
    "<img style=\"margin-left: auto; margin-right: auto; width:100%;\" src=\"media/handshake3.png\">  \n"
   ]
  },
  {
   "cell_type": "markdown",
   "id": "34138964",
   "metadata": {
    "slideshow": {
     "slide_type": "notes"
    }
   },
   "source": [
    "<section>\n",
    "<img style=\"float: right; margin: 5px;\" src=\"media/Figure-3-TLS-1-3-Handshake.png\"> \n",
    "<!--class=\"fragment\"-->\n",
    "<pre style=\"font-size: ;\">\n",
    "\n",
    "\n",
    "\n",
    "\n",
    "<h2>1.</h2>\n",
    "Key  ^ ClientHello\n",
    "Exch | + key_share*\n",
    "     | + signature_algorithms*\n",
    "     | + psk_key_exchange_modes*\n",
    "     v + pre_shared_key*\n",
    "</pre>\n",
    "</section>"
   ]
  },
  {
   "cell_type": "markdown",
   "id": "defb6640",
   "metadata": {
    "slideshow": {
     "slide_type": "notes"
    }
   },
   "source": [
    "<img style=\"float: left; margin: 5px; margin-right:20px;\" src=\"media/Figure-3-TLS-1-3-Handshake.png\"> \n",
    "\n",
    "<pre>\n",
    "\n",
    "\n",
    "\n",
    "\n",
    "<h2>2.</h2>\n",
    "          ServerHello  ^ Key\n",
    "         + key_share*  | Exch\n",
    "    + pre_shared_key*  v\n",
    "{EncryptedExtensions}  ^  Server\n",
    "{CertificateRequest*}  v  Params\n",
    "       {Certificate*}  ^\n",
    " {CertificateVerify*}  | Auth\n",
    "           {Finished}  v\n",
    "  [Application Data*]\n",
    "</pre>"
   ]
  },
  {
   "cell_type": "markdown",
   "id": "3f259433",
   "metadata": {
    "slideshow": {
     "slide_type": "notes"
    }
   },
   "source": [
    "<img style=\"float: right; margin: 5px;\" src=\"media/Figure-3-TLS-1-3-Handshake.png\"> \n",
    "<pre>\n",
    "\n",
    "\n",
    "\n",
    "\n",
    "\n",
    "\n",
    "\n",
    "\n",
    "\n",
    "<h2>3.</h2>\n",
    "     ^ {Certificate*}\n",
    "Auth | {CertificateVerify*}\n",
    "     v {Finished}          \n",
    "       [Application Data] \n",
    "</pre>"
   ]
  },
  {
   "cell_type": "markdown",
   "id": "90b55efc",
   "metadata": {
    "slideshow": {
     "slide_type": "subslide"
    }
   },
   "source": [
    "\n",
    "<img style=\"margin-left: auto; margin-right: auto;\" src=\"media/Figure-3-TLS-1-3-Handshake.png\">  \n"
   ]
  },
  {
   "cell_type": "markdown",
   "id": "7bc8738d",
   "metadata": {
    "slideshow": {
     "slide_type": "subslide"
    }
   },
   "source": []
  },
  {
   "cell_type": "markdown",
   "id": "9e59535e",
   "metadata": {
    "slideshow": {
     "slide_type": "slide"
    }
   },
   "source": [
    "# Inhaltsverzeichnis"
   ]
  },
  {
   "cell_type": "markdown",
   "id": "1171985e",
   "metadata": {
    "slideshow": {
     "slide_type": "slide"
    }
   },
   "source": [
    "# HTTPS"
   ]
  },
  {
   "cell_type": "markdown",
   "id": "75c7f61e",
   "metadata": {
    "slideshow": {
     "slide_type": "subslide"
    }
   },
   "source": [
    "# HTTPS ist HTTP über TLS\n",
    "\n",
    "HTTP nutzt als Transport Protokoll TCP. HTTPS setzt stattdessen auf TLS auf, welches auch TCP nutzt. Dadurch ist das komplette HTTP Paket verschlüsselt. (rfc2818[2][2.2])"
   ]
  },
  {
   "cell_type": "code",
   "execution_count": null,
   "id": "681d297f",
   "metadata": {},
   "outputs": [],
   "source": []
  },
  {
   "cell_type": "markdown",
   "id": "722fa4f4",
   "metadata": {
    "slideshow": {
     "slide_type": "subslide"
    }
   },
   "source": [
    "# HTTP Paketaufbau"
   ]
  },
  {
   "cell_type": "code",
   "execution_count": 4,
   "id": "46e3c780",
   "metadata": {
    "slideshow": {
     "slide_type": "fragment"
    }
   },
   "outputs": [],
   "source": [
    "from diagrams import Diagram\n",
    "from diagrams.onprem.client import Client\n",
    "from diagrams.onprem.network import Tyk\n",
    "\n",
    "with Diagram(\"HTTP Header Format\"):\n",
    "    client = Client(\"Client\")\n",
    "    http = Tyk(\"HTTP\")\n",
    "    client >> http"
   ]
  },
  {
   "cell_type": "markdown",
   "id": "0b1b4739",
   "metadata": {
    "slideshow": {
     "slide_type": "subslide"
    }
   },
   "source": [
    "# HTTP Paketaufbau"
   ]
  },
  {
   "cell_type": "markdown",
   "id": "89e8b0ac",
   "metadata": {
    "slideshow": {
     "slide_type": "subslide"
    }
   },
   "source": [
    "# HTTP Paketaufbau"
   ]
  },
  {
   "cell_type": "markdown",
   "id": "56f24212",
   "metadata": {},
   "source": [
    "# TLS Frame"
   ]
  },
  {
   "cell_type": "markdown",
   "id": "a81882c0",
   "metadata": {
    "slideshow": {
     "slide_type": "slide"
    }
   },
   "source": [
    "# Geschichte von TLS"
   ]
  },
  {
   "cell_type": "markdown",
   "id": "a23e9005",
   "metadata": {
    "slideshow": {
     "slide_type": "subslide"
    }
   },
   "source": [
    "# TLS 1.1"
   ]
  },
  {
   "cell_type": "markdown",
   "id": "56bc990c",
   "metadata": {
    "slideshow": {
     "slide_type": "subslide"
    }
   },
   "source": [
    "# TLS 1.2"
   ]
  },
  {
   "cell_type": "markdown",
   "id": "501529b2",
   "metadata": {
    "slideshow": {
     "slide_type": "subslide"
    }
   },
   "source": [
    "# TLS 1.3"
   ]
  },
  {
   "cell_type": "markdown",
   "id": "558b3732",
   "metadata": {
    "slideshow": {
     "slide_type": "slide"
    }
   },
   "source": [
    "# HTTPS Demo"
   ]
  },
  {
   "cell_type": "code",
   "execution_count": null,
   "id": "bb60dd29",
   "metadata": {
    "slideshow": {
     "slide_type": "fragment"
    }
   },
   "outputs": [],
   "source": [
    "import ssl\n",
    "import socket\n",
    "import OpenSSL\n",
    "\n",
    "# Set the target website\n",
    "website = \"www.google.com\"\n",
    "\n",
    "# Check the certificate of the website\n",
    "context = ssl.create_default_context()\n",
    "s = socket.create_connection((website, 443))\n",
    "ssl_sock = context.wrap_socket(s, server_hostname=website)\n",
    "cert = ssl_sock.getpeercert()\n",
    "\n",
    "# Print the certificate\n",
    "print(cert)"
   ]
  }
 ],
 "metadata": {
  "celltoolbar": "Slideshow",
  "kernelspec": {
   "display_name": "Python 3 (ipykernel)",
   "language": "python",
   "name": "python3"
  },
  "language_info": {
   "codemirror_mode": {
    "name": "ipython",
    "version": 3
   },
   "file_extension": ".py",
   "mimetype": "text/x-python",
   "name": "python",
   "nbconvert_exporter": "python",
   "pygments_lexer": "ipython3",
   "version": "3.10.8"
  },
  "vscode": {
   "interpreter": {
    "hash": "d4d1e4263499bec80672ea0156c357c1ee493ec2b1c70f0acce89fc37c4a6abe"
   }
  }
 },
 "nbformat": 4,
 "nbformat_minor": 5
}
